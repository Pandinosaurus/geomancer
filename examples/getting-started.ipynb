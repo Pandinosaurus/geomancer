{
 "cells": [
  {
   "cell_type": "markdown",
   "metadata": {},
   "source": [
    "# Getting Started to Geomancer\n",
    "\n",
    "In this demo, we will try to do the following tasks:\n",
    "- Create a feature representing the distance to the nearest embassy\n",
    "- Use a different backend from BigQuery to SQLite (Spatialite)\n",
    "- Generate additional features, bind them into a Spellbook, and share to others"
   ]
  },
  {
   "cell_type": "code",
   "execution_count": 1,
   "metadata": {},
   "outputs": [],
   "source": [
    "import sys\n",
    "import warnings\n",
    "sys.path.append(\"../\")\n",
    "warnings.filterwarnings('ignore')  # GCP client warns us when we are not using service accounts, let's live on the edge and ignore these warnings"
   ]
  },
  {
   "cell_type": "code",
   "execution_count": 2,
   "metadata": {},
   "outputs": [],
   "source": [
    "import pandas as pd\n",
    "from geomancer.spells import DistanceToNearest, NumberOf"
   ]
  },
  {
   "cell_type": "markdown",
   "metadata": {},
   "source": [
    "In Geomancer, features are represented as spells. We can `cast` is to a set of coordinates. \n",
    "Let's first load the points we want to get features for."
   ]
  },
  {
   "cell_type": "code",
   "execution_count": 3,
   "metadata": {},
   "outputs": [
    {
     "data": {
      "text/html": [
       "<div>\n",
       "<style scoped>\n",
       "    .dataframe tbody tr th:only-of-type {\n",
       "        vertical-align: middle;\n",
       "    }\n",
       "\n",
       "    .dataframe tbody tr th {\n",
       "        vertical-align: top;\n",
       "    }\n",
       "\n",
       "    .dataframe thead th {\n",
       "        text-align: right;\n",
       "    }\n",
       "</style>\n",
       "<table border=\"1\" class=\"dataframe\">\n",
       "  <thead>\n",
       "    <tr style=\"text-align: right;\">\n",
       "      <th></th>\n",
       "      <th>WKT</th>\n",
       "      <th>code</th>\n",
       "    </tr>\n",
       "  </thead>\n",
       "  <tbody>\n",
       "    <tr>\n",
       "      <th>0</th>\n",
       "      <td>POINT (121.0042183 14.6749145)</td>\n",
       "      <td>2082</td>\n",
       "    </tr>\n",
       "    <tr>\n",
       "      <th>1</th>\n",
       "      <td>POINT (121.0052375 14.6767411)</td>\n",
       "      <td>2110</td>\n",
       "    </tr>\n",
       "    <tr>\n",
       "      <th>2</th>\n",
       "      <td>POINT (121.009712 14.68067)</td>\n",
       "      <td>2082</td>\n",
       "    </tr>\n",
       "    <tr>\n",
       "      <th>3</th>\n",
       "      <td>POINT (121.0093311 14.6799482)</td>\n",
       "      <td>2082</td>\n",
       "    </tr>\n",
       "    <tr>\n",
       "      <th>4</th>\n",
       "      <td>POINT (121.0073296 14.6783498)</td>\n",
       "      <td>2082</td>\n",
       "    </tr>\n",
       "  </tbody>\n",
       "</table>\n",
       "</div>"
      ],
      "text/plain": [
       "                              WKT  code\n",
       "0  POINT (121.0042183 14.6749145)  2082\n",
       "1  POINT (121.0052375 14.6767411)  2110\n",
       "2     POINT (121.009712 14.68067)  2082\n",
       "3  POINT (121.0093311 14.6799482)  2082\n",
       "4  POINT (121.0073296 14.6783498)  2082"
      ]
     },
     "execution_count": 3,
     "metadata": {},
     "output_type": "execute_result"
    }
   ],
   "source": [
    "df = pd.read_csv(\"../tests/data/sample_points.csv\")\n",
    "df.head()"
   ]
  },
  {
   "cell_type": "markdown",
   "metadata": {},
   "source": [
    "`WKT` is the column that holds the geometry (in this case, a point with a longitude and latitude), while `code` is just an arbitrary column you don't need to worry about. What geomancer will do is simply add another column pertaining to that particular feature"
   ]
  },
  {
   "cell_type": "markdown",
   "metadata": {},
   "source": [
    "## Create a feature for the distance to the nearest embassy\n",
    "\n",
    "Now, let's `cast` the `DistanceToNearest` spell to our DataFrame. It will query from a data warehouse located in BigQuery. You need to configure this in your own organization. If you want setup instructions, please check [this link](https://geomancer.readthedocs.io/en/latest/setup.html#setting-up-your-data-warehouse). We will call this feature `dist_embassy`."
   ]
  },
  {
   "cell_type": "code",
   "execution_count": 4,
   "metadata": {},
   "outputs": [
    {
     "data": {
      "text/html": [
       "<div>\n",
       "<style scoped>\n",
       "    .dataframe tbody tr th:only-of-type {\n",
       "        vertical-align: middle;\n",
       "    }\n",
       "\n",
       "    .dataframe tbody tr th {\n",
       "        vertical-align: top;\n",
       "    }\n",
       "\n",
       "    .dataframe thead th {\n",
       "        text-align: right;\n",
       "    }\n",
       "</style>\n",
       "<table border=\"1\" class=\"dataframe\">\n",
       "  <thead>\n",
       "    <tr style=\"text-align: right;\">\n",
       "      <th></th>\n",
       "      <th>WKT</th>\n",
       "      <th>code</th>\n",
       "      <th>dist_embassy</th>\n",
       "    </tr>\n",
       "  </thead>\n",
       "  <tbody>\n",
       "    <tr>\n",
       "      <th>0</th>\n",
       "      <td>POINT (121.0042183 14.6749145)</td>\n",
       "      <td>2082</td>\n",
       "      <td>4948.580211</td>\n",
       "    </tr>\n",
       "    <tr>\n",
       "      <th>1</th>\n",
       "      <td>POINT (121.0052375 14.6767411)</td>\n",
       "      <td>2110</td>\n",
       "      <td>5084.787270</td>\n",
       "    </tr>\n",
       "    <tr>\n",
       "      <th>2</th>\n",
       "      <td>POINT (121.009712 14.68067)</td>\n",
       "      <td>2082</td>\n",
       "      <td>5319.746371</td>\n",
       "    </tr>\n",
       "    <tr>\n",
       "      <th>3</th>\n",
       "      <td>POINT (121.0093311 14.6799482)</td>\n",
       "      <td>2082</td>\n",
       "      <td>5256.165257</td>\n",
       "    </tr>\n",
       "    <tr>\n",
       "      <th>4</th>\n",
       "      <td>POINT (121.0073296 14.6783498)</td>\n",
       "      <td>2082</td>\n",
       "      <td>5162.177598</td>\n",
       "    </tr>\n",
       "  </tbody>\n",
       "</table>\n",
       "</div>"
      ],
      "text/plain": [
       "                              WKT  code  dist_embassy\n",
       "0  POINT (121.0042183 14.6749145)  2082   4948.580211\n",
       "1  POINT (121.0052375 14.6767411)  2110   5084.787270\n",
       "2     POINT (121.009712 14.68067)  2082   5319.746371\n",
       "3  POINT (121.0093311 14.6799482)  2082   5256.165257\n",
       "4  POINT (121.0073296 14.6783498)  2082   5162.177598"
      ]
     },
     "execution_count": 4,
     "metadata": {},
     "output_type": "execute_result"
    }
   ],
   "source": [
    "DistanceToNearest(\"embassy\", \n",
    "                   source_table=\"tm-geospatial.ph_osm.gis_osm_pois_free_1\",\n",
    "                   feature_name=\"dist_embassy\").cast(df, dburl=\"bigquery://tm-geospatial\").head()"
   ]
  },
  {
   "cell_type": "markdown",
   "metadata": {},
   "source": [
    "## Use a different database backend\n",
    "\n",
    "Earlier, we used BigQuery, but geomancer can also support SQLite (via Spatialite). Let's run the same spell, but on a different database backend"
   ]
  },
  {
   "cell_type": "code",
   "execution_count": 5,
   "metadata": {},
   "outputs": [
    {
     "data": {
      "text/html": [
       "<div>\n",
       "<style scoped>\n",
       "    .dataframe tbody tr th:only-of-type {\n",
       "        vertical-align: middle;\n",
       "    }\n",
       "\n",
       "    .dataframe tbody tr th {\n",
       "        vertical-align: top;\n",
       "    }\n",
       "\n",
       "    .dataframe thead th {\n",
       "        text-align: right;\n",
       "    }\n",
       "</style>\n",
       "<table border=\"1\" class=\"dataframe\">\n",
       "  <thead>\n",
       "    <tr style=\"text-align: right;\">\n",
       "      <th></th>\n",
       "      <th>WKT</th>\n",
       "      <th>code</th>\n",
       "      <th>dist_embassy</th>\n",
       "    </tr>\n",
       "  </thead>\n",
       "  <tbody>\n",
       "    <tr>\n",
       "      <th>0</th>\n",
       "      <td>POINT (121.0042183 14.6749145)</td>\n",
       "      <td>2082</td>\n",
       "      <td>0.044806</td>\n",
       "    </tr>\n",
       "    <tr>\n",
       "      <th>1</th>\n",
       "      <td>POINT (121.0052375 14.6767411)</td>\n",
       "      <td>2110</td>\n",
       "      <td>0.045995</td>\n",
       "    </tr>\n",
       "    <tr>\n",
       "      <th>2</th>\n",
       "      <td>POINT (121.009712 14.68067)</td>\n",
       "      <td>2082</td>\n",
       "      <td>0.047993</td>\n",
       "    </tr>\n",
       "    <tr>\n",
       "      <th>3</th>\n",
       "      <td>POINT (121.0093311 14.6799482)</td>\n",
       "      <td>2082</td>\n",
       "      <td>0.047431</td>\n",
       "    </tr>\n",
       "    <tr>\n",
       "      <th>4</th>\n",
       "      <td>POINT (121.0073296 14.6783498)</td>\n",
       "      <td>2082</td>\n",
       "      <td>0.046634</td>\n",
       "    </tr>\n",
       "  </tbody>\n",
       "</table>\n",
       "</div>"
      ],
      "text/plain": [
       "                              WKT  code  dist_embassy\n",
       "0  POINT (121.0042183 14.6749145)  2082      0.044806\n",
       "1  POINT (121.0052375 14.6767411)  2110      0.045995\n",
       "2     POINT (121.009712 14.68067)  2082      0.047993\n",
       "3  POINT (121.0093311 14.6799482)  2082      0.047431\n",
       "4  POINT (121.0073296 14.6783498)  2082      0.046634"
      ]
     },
     "execution_count": 5,
     "metadata": {},
     "output_type": "execute_result"
    }
   ],
   "source": [
    "DistanceToNearest(\"embassy\", \n",
    "        source_table=\"gis_osm_pois_free_1\",\n",
    "        feature_name=\"dist_embassy\").cast(df, dburl=\"sqlite:///data/source.sqlite\").head()"
   ]
  },
  {
   "cell_type": "markdown",
   "metadata": {},
   "source": [
    "Oh no the output looks different! The output is in meters for BQ, but for SQLite, it's in decimal degrees. So $$\\frac{4948.580211 km}{111.32 km} = 0.044806$$\n",
    "We plan on converting all outputs into meters for consistency (or you can do it by making a PR :p)."
   ]
  },
  {
   "cell_type": "markdown",
   "metadata": {},
   "source": [
    "## Generate features into a Spellbook\n",
    "\n",
    "It is also possible to compile features together to share to others. Simply create an instance of a `SpellBook`, and fill it in with a list of Spells you wish to include"
   ]
  },
  {
   "cell_type": "code",
   "execution_count": 6,
   "metadata": {},
   "outputs": [],
   "source": [
    "from geomancer.spellbook import SpellBook"
   ]
  },
  {
   "cell_type": "code",
   "execution_count": 7,
   "metadata": {},
   "outputs": [],
   "source": [
    "# Create a spellbook\n",
    "spellbook = SpellBook(\n",
    "          spells=[\n",
    "              DistanceToNearest(\"embassy\",\n",
    "                                 source_table=\"ph_osm.gis_osm_pois_free_1\",\n",
    "                                 dburl=\"bigquery://tm-geospatial\",\n",
    "                                 feature_name=\"dist_primary\"),\n",
    "              NumberOf(\"supermarket\",\n",
    "                        source_table=\"ph_osm.gis_osm_pois_free_1\",\n",
    "                        dburl=\"bigquery://tm-geospatial\",\n",
    "                        feature_name=\"num_supermarkets\"),\n",
    "          ])"
   ]
  },
  {
   "cell_type": "markdown",
   "metadata": {},
   "source": [
    "Using a `SpellBook`, you can do multi-`cast`ing:"
   ]
  },
  {
   "cell_type": "code",
   "execution_count": 8,
   "metadata": {},
   "outputs": [
    {
     "data": {
      "text/html": [
       "<div>\n",
       "<style scoped>\n",
       "    .dataframe tbody tr th:only-of-type {\n",
       "        vertical-align: middle;\n",
       "    }\n",
       "\n",
       "    .dataframe tbody tr th {\n",
       "        vertical-align: top;\n",
       "    }\n",
       "\n",
       "    .dataframe thead th {\n",
       "        text-align: right;\n",
       "    }\n",
       "</style>\n",
       "<table border=\"1\" class=\"dataframe\">\n",
       "  <thead>\n",
       "    <tr style=\"text-align: right;\">\n",
       "      <th></th>\n",
       "      <th>WKT</th>\n",
       "      <th>code</th>\n",
       "      <th>dist_primary</th>\n",
       "      <th>num_supermarkets</th>\n",
       "    </tr>\n",
       "  </thead>\n",
       "  <tbody>\n",
       "    <tr>\n",
       "      <th>0</th>\n",
       "      <td>POINT (121.0042183 14.6749145)</td>\n",
       "      <td>2082</td>\n",
       "      <td>4948.580211</td>\n",
       "      <td>181</td>\n",
       "    </tr>\n",
       "    <tr>\n",
       "      <th>1</th>\n",
       "      <td>POINT (121.0052375 14.6767411)</td>\n",
       "      <td>2110</td>\n",
       "      <td>5084.787270</td>\n",
       "      <td>181</td>\n",
       "    </tr>\n",
       "    <tr>\n",
       "      <th>2</th>\n",
       "      <td>POINT (121.009712 14.68067)</td>\n",
       "      <td>2082</td>\n",
       "      <td>5319.746371</td>\n",
       "      <td>180</td>\n",
       "    </tr>\n",
       "    <tr>\n",
       "      <th>3</th>\n",
       "      <td>POINT (121.0093311 14.6799482)</td>\n",
       "      <td>2082</td>\n",
       "      <td>5256.165257</td>\n",
       "      <td>181</td>\n",
       "    </tr>\n",
       "    <tr>\n",
       "      <th>4</th>\n",
       "      <td>POINT (121.0073296 14.6783498)</td>\n",
       "      <td>2082</td>\n",
       "      <td>5162.177598</td>\n",
       "      <td>181</td>\n",
       "    </tr>\n",
       "  </tbody>\n",
       "</table>\n",
       "</div>"
      ],
      "text/plain": [
       "                              WKT  code  dist_primary  num_supermarkets\n",
       "0  POINT (121.0042183 14.6749145)  2082   4948.580211               181\n",
       "1  POINT (121.0052375 14.6767411)  2110   5084.787270               181\n",
       "2     POINT (121.009712 14.68067)  2082   5319.746371               180\n",
       "3  POINT (121.0093311 14.6799482)  2082   5256.165257               181\n",
       "4  POINT (121.0073296 14.6783498)  2082   5162.177598               181"
      ]
     },
     "execution_count": 8,
     "metadata": {},
     "output_type": "execute_result"
    }
   ],
   "source": [
    "spellbook.cast(df).head(5)"
   ]
  },
  {
   "cell_type": "markdown",
   "metadata": {},
   "source": [
    "You can also share your Spellbook to your colleagues, friends, and family!"
   ]
  },
  {
   "cell_type": "code",
   "execution_count": 9,
   "metadata": {},
   "outputs": [],
   "source": [
    "spellbook.author = \"Lj Miranda\"\n",
    "spellbook.description = \"Features for Geomancer Demo\"\n",
    "spellbook.to_json(\"data/features_demo.json\")"
   ]
  },
  {
   "cell_type": "markdown",
   "metadata": {},
   "source": [
    "And you can also read other features from other people and cast it on your own dataset!"
   ]
  },
  {
   "cell_type": "code",
   "execution_count": 10,
   "metadata": {},
   "outputs": [
    {
     "data": {
      "text/html": [
       "<div>\n",
       "<style scoped>\n",
       "    .dataframe tbody tr th:only-of-type {\n",
       "        vertical-align: middle;\n",
       "    }\n",
       "\n",
       "    .dataframe tbody tr th {\n",
       "        vertical-align: top;\n",
       "    }\n",
       "\n",
       "    .dataframe thead th {\n",
       "        text-align: right;\n",
       "    }\n",
       "</style>\n",
       "<table border=\"1\" class=\"dataframe\">\n",
       "  <thead>\n",
       "    <tr style=\"text-align: right;\">\n",
       "      <th></th>\n",
       "      <th>WKT</th>\n",
       "      <th>code</th>\n",
       "      <th>dist_supermarket</th>\n",
       "      <th>num_embassy</th>\n",
       "    </tr>\n",
       "  </thead>\n",
       "  <tbody>\n",
       "    <tr>\n",
       "      <th>0</th>\n",
       "      <td>POINT (121.0042183 14.6749145)</td>\n",
       "      <td>2082</td>\n",
       "      <td>0.008973</td>\n",
       "      <td>54</td>\n",
       "    </tr>\n",
       "    <tr>\n",
       "      <th>1</th>\n",
       "      <td>POINT (121.0052375 14.6767411)</td>\n",
       "      <td>2110</td>\n",
       "      <td>0.008792</td>\n",
       "      <td>54</td>\n",
       "    </tr>\n",
       "    <tr>\n",
       "      <th>2</th>\n",
       "      <td>POINT (121.009712 14.68067)</td>\n",
       "      <td>2082</td>\n",
       "      <td>0.008990</td>\n",
       "      <td>54</td>\n",
       "    </tr>\n",
       "    <tr>\n",
       "      <th>3</th>\n",
       "      <td>POINT (121.0093311 14.6799482)</td>\n",
       "      <td>2082</td>\n",
       "      <td>0.008463</td>\n",
       "      <td>54</td>\n",
       "    </tr>\n",
       "    <tr>\n",
       "      <th>4</th>\n",
       "      <td>POINT (121.0073296 14.6783498)</td>\n",
       "      <td>2082</td>\n",
       "      <td>0.008201</td>\n",
       "      <td>54</td>\n",
       "    </tr>\n",
       "  </tbody>\n",
       "</table>\n",
       "</div>"
      ],
      "text/plain": [
       "                              WKT  code  dist_supermarket  num_embassy\n",
       "0  POINT (121.0042183 14.6749145)  2082          0.008973           54\n",
       "1  POINT (121.0052375 14.6767411)  2110          0.008792           54\n",
       "2     POINT (121.009712 14.68067)  2082          0.008990           54\n",
       "3  POINT (121.0093311 14.6799482)  2082          0.008463           54\n",
       "4  POINT (121.0073296 14.6783498)  2082          0.008201           54"
      ]
     },
     "execution_count": 10,
     "metadata": {},
     "output_type": "execute_result"
    }
   ],
   "source": [
    "some_spellbook = spellbook.read_json(\"data/some_spellbook.json\")\n",
    "some_spellbook.cast(df).head(5)"
   ]
  }
 ],
 "metadata": {
  "kernelspec": {
   "display_name": "geomancer",
   "language": "python",
   "name": "geomancer"
  },
  "language_info": {
   "codemirror_mode": {
    "name": "ipython",
    "version": 3
   },
   "file_extension": ".py",
   "mimetype": "text/x-python",
   "name": "python",
   "nbconvert_exporter": "python",
   "pygments_lexer": "ipython3",
   "version": "3.6.8"
  }
 },
 "nbformat": 4,
 "nbformat_minor": 2
}
